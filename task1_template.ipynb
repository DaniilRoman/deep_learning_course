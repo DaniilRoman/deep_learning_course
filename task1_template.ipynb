{
 "cells": [
  {
   "cell_type": "markdown",
   "metadata": {},
   "source": [
    "# MNIST classification with kNN classifier"
   ]
  },
  {
   "cell_type": "markdown",
   "metadata": {},
   "source": [
    "## 1. Load MNIST dataset and prepare data"
   ]
  },
  {
   "cell_type": "code",
   "execution_count": 1,
   "metadata": {},
   "outputs": [],
   "source": [
    "import pandas as pd\n",
    "train = pd.read_csv(\"./data/archive/mnist_train.csv\")[:1000]\n",
    "test = pd.read_csv(\"./data/archive/mnist_test.csv\")[:100]\n",
    "\n",
    "X_train = train.drop(['label'], axis=1).values\n",
    "y_train = train['label'].values\n",
    "\n",
    "X_test = test.drop(['label'], axis=1).values\n",
    "y_test = test['label'].values\n",
    "\n",
    "y_train = y_train.reshape(train.shape[0], 1)\n",
    "y_test = y_test.reshape(test.shape[0], 1)"
   ]
  },
  {
   "cell_type": "markdown",
   "metadata": {},
   "source": [
    "## 2. kNN classifier implementation"
   ]
  },
  {
   "cell_type": "code",
   "execution_count": 2,
   "outputs": [],
   "source": [
    "from knn import OwnKNeighborsClassifier"
   ],
   "metadata": {
    "collapsed": false,
    "pycharm": {
     "name": "#%%\n"
    }
   }
  },
  {
   "cell_type": "markdown",
   "metadata": {},
   "source": [
    "## 3. Check correctness (compare with exist implementations)"
   ]
  },
  {
   "cell_type": "code",
   "execution_count": 3,
   "metadata": {},
   "outputs": [],
   "source": [
    "from sklearn.metrics import classification_report, confusion_matrix\n",
    "K = 5"
   ]
  },
  {
   "cell_type": "markdown",
   "source": [
    "#### 3.1 our implementation"
   ],
   "metadata": {
    "collapsed": false
   }
  },
  {
   "cell_type": "code",
   "execution_count": 9,
   "outputs": [
    {
     "name": "stderr",
     "output_type": "stream",
     "text": [
      "100%|██████████| 100/100 [00:01<00:00, 99.97it/s]\n"
     ]
    },
    {
     "name": "stdout",
     "output_type": "stream",
     "text": [
      "[[ 8  0  0  0  0  0  0  0  0  0]\n",
      " [ 0 14  0  0  0  0  0  0  0  0]\n",
      " [ 0  1  6  0  1  0  0  0  0  0]\n",
      " [ 0  0  0  9  0  1  0  0  0  1]\n",
      " [ 0  0  0  0 10  0  0  0  0  4]\n",
      " [ 0  1  0  1  1  4  0  0  0  0]\n",
      " [ 1  0  0  0  0  0  9  0  0  0]\n",
      " [ 0  0  0  0  0  0  0 14  0  1]\n",
      " [ 0  0  0  0  0  0  0  0  2  0]\n",
      " [ 0  0  0  0  0  0  0  2  0  9]]\n",
      "              precision    recall  f1-score   support\n",
      "\n",
      "           0       0.89      1.00      0.94         8\n",
      "           1       0.88      1.00      0.93        14\n",
      "           2       1.00      0.75      0.86         8\n",
      "           3       0.90      0.82      0.86        11\n",
      "           4       0.83      0.71      0.77        14\n",
      "           5       0.80      0.57      0.67         7\n",
      "           6       1.00      0.90      0.95        10\n",
      "           7       0.88      0.93      0.90        15\n",
      "           8       1.00      1.00      1.00         2\n",
      "           9       0.60      0.82      0.69        11\n",
      "\n",
      "    accuracy                           0.85       100\n",
      "   macro avg       0.88      0.85      0.86       100\n",
      "weighted avg       0.86      0.85      0.85       100\n",
      "\n"
     ]
    }
   ],
   "source": [
    "our_knn_model = OwnKNeighborsClassifier(K)\n",
    "our_knn_model.fit(X_train, y_train)\n",
    "y = our_knn_model.predict(X_test)\n",
    "\n",
    "print(confusion_matrix(y_test, y))\n",
    "print(classification_report(y_test, y))\n"
   ],
   "metadata": {
    "collapsed": false,
    "pycharm": {
     "name": "#%%\n"
    }
   }
  },
  {
   "cell_type": "markdown",
   "source": [
    "#### 3.2 sklearn implementation"
   ],
   "metadata": {
    "collapsed": false
   }
  },
  {
   "cell_type": "code",
   "execution_count": 11,
   "outputs": [
    {
     "name": "stdout",
     "output_type": "stream",
     "text": [
      "[[ 8  0  0  0  0  0  0  0  0  0]\n",
      " [ 0 14  0  0  0  0  0  0  0  0]\n",
      " [ 0  1  6  0  1  0  0  0  0  0]\n",
      " [ 0  1  1  8  0  0  0  0  0  1]\n",
      " [ 0  0  0  0 11  0  0  0  0  3]\n",
      " [ 0  1  0  1  1  4  0  0  0  0]\n",
      " [ 1  0  0  0  1  0  8  0  0  0]\n",
      " [ 0  0  0  0  0  0  0 14  0  1]\n",
      " [ 0  0  0  0  0  0  0  0  2  0]\n",
      " [ 0  0  0  0  0  0  0  2  0  9]]\n",
      "              precision    recall  f1-score   support\n",
      "\n",
      "           0       0.89      1.00      0.94         8\n",
      "           1       0.82      1.00      0.90        14\n",
      "           2       0.86      0.75      0.80         8\n",
      "           3       0.89      0.73      0.80        11\n",
      "           4       0.79      0.79      0.79        14\n",
      "           5       1.00      0.57      0.73         7\n",
      "           6       1.00      0.80      0.89        10\n",
      "           7       0.88      0.93      0.90        15\n",
      "           8       1.00      1.00      1.00         2\n",
      "           9       0.64      0.82      0.72        11\n",
      "\n",
      "    accuracy                           0.84       100\n",
      "   macro avg       0.88      0.84      0.85       100\n",
      "weighted avg       0.85      0.84      0.84       100\n",
      "\n"
     ]
    },
    {
     "name": "stderr",
     "output_type": "stream",
     "text": [
      "<ipython-input-11-a79034ba811b>:3: DataConversionWarning: A column-vector y was passed when a 1d array was expected. Please change the shape of y to (n_samples, ), for example using ravel().\n",
      "  sklearn_knn_model.fit(X_train, y_train)\n"
     ]
    }
   ],
   "source": [
    "from sklearn.neighbors import KNeighborsClassifier\n",
    "sklearn_knn_model = KNeighborsClassifier(K)\n",
    "sklearn_knn_model.fit(X_train, y_train)\n",
    "y = sklearn_knn_model.predict(X_test)\n",
    "\n",
    "print(confusion_matrix(y_test, y))\n",
    "print(classification_report(y_test, y))"
   ],
   "metadata": {
    "collapsed": false,
    "pycharm": {
     "name": "#%%\n"
    }
   }
  },
  {
   "cell_type": "markdown",
   "metadata": {},
   "source": [
    "## 4. Define features and distance functions"
   ]
  },
  {
   "cell_type": "code",
   "execution_count": 4,
   "outputs": [],
   "source": [
    "from hog import HogFeatureLoader\n",
    "from histagram import HistFeatureLoader\n",
    "from nn import NnFeatureLoader\n",
    "\n",
    "hog = HogFeatureLoader()\n",
    "hist = HistFeatureLoader()\n",
    "nn = NnFeatureLoader()"
   ],
   "metadata": {
    "collapsed": false,
    "pycharm": {
     "name": "#%%\n"
    }
   }
  },
  {
   "cell_type": "code",
   "execution_count": 13,
   "outputs": [],
   "source": [
    "hog.save_features(X_test, \"test\")\n",
    "hog.save_features(X_train, \"train\")"
   ],
   "metadata": {
    "collapsed": false,
    "pycharm": {
     "name": "#%%\n"
    }
   }
  },
  {
   "cell_type": "code",
   "execution_count": 14,
   "outputs": [],
   "source": [
    "hist.save_features(X_test, \"test\")\n",
    "hist.save_features(X_train, \"train\")"
   ],
   "metadata": {
    "collapsed": false,
    "pycharm": {
     "name": "#%%\n"
    }
   }
  },
  {
   "cell_type": "code",
   "execution_count": 19,
   "outputs": [],
   "source": [
    "nn.save_features(X_test, \"test\")\n",
    "nn.save_features(X_train, \"train\")"
   ],
   "metadata": {
    "collapsed": false,
    "pycharm": {
     "name": "#%%\n"
    }
   }
  },
  {
   "cell_type": "code",
   "execution_count": 5,
   "outputs": [],
   "source": [
    "from knn import euclidian_distance, manhattan_distance\n",
    "\n",
    "pixels_feature = {\"x_train\": X_train, \"y_train\": y_train, \"x_test\": X_test, \"y_test\": y_test}\n",
    "hog_feature = {\"x_train\": hog.load_features(\"train\"), \"y_train\": y_train, \"x_test\": hog.load_features(\"test\"), \"y_test\": y_test}\n",
    "hist_feature = {\"x_train\": hist.load_features(\"train\"), \"y_train\": y_train, \"x_test\": hist.load_features(\"test\"), \"y_test\": y_test}\n",
    "# nn_feature = {\"x_train\": nn.load_features(\"train\"), \"y_train\": y_train, \"x_test\": nn.load_features(\"train\"), \"y_test\": y_test}\n",
    "\n",
    "K = [3, 5, 7, 9]\n",
    "dist_functions = [[\"euclidian\", euclidian_distance], [\"manhattan\", manhattan_distance]]\n",
    "features = [[\"pixels\", pixels_feature], [\"hog\", hog_feature], [\"hist\", hist_feature]]"
   ],
   "metadata": {
    "collapsed": false,
    "pycharm": {
     "name": "#%%\n"
    }
   }
  },
  {
   "cell_type": "markdown",
   "metadata": {},
   "source": [
    "## 5. Find hyper-parameters"
   ]
  },
  {
   "cell_type": "code",
   "execution_count": 6,
   "metadata": {},
   "outputs": [
    {
     "name": "stderr",
     "output_type": "stream",
     "text": [
      "100%|██████████| 100/100 [00:01<00:00, 86.55it/s]\n",
      "100%|██████████| 100/100 [00:01<00:00, 83.50it/s]\n",
      "100%|██████████| 100/100 [00:01<00:00, 90.74it/s]\n",
      "100%|██████████| 100/100 [00:01<00:00, 92.32it/s]\n",
      "100%|██████████| 100/100 [00:00<00:00, 168.62it/s]\n",
      "100%|██████████| 100/100 [00:00<00:00, 205.06it/s]\n",
      "100%|██████████| 100/100 [00:00<00:00, 206.10it/s]\n",
      "100%|██████████| 100/100 [00:00<00:00, 206.51it/s]\n",
      "100%|██████████| 100/100 [00:00<00:00, 238.08it/s]\n",
      "100%|██████████| 100/100 [00:00<00:00, 224.57it/s]\n",
      "100%|██████████| 100/100 [00:00<00:00, 185.30it/s]\n",
      "100%|██████████| 100/100 [00:00<00:00, 183.60it/s]\n",
      "100%|██████████| 100/100 [00:01<00:00, 84.57it/s]\n",
      "100%|██████████| 100/100 [00:01<00:00, 85.57it/s]\n",
      "100%|██████████| 100/100 [00:01<00:00, 86.01it/s]\n",
      "100%|██████████| 100/100 [00:01<00:00, 84.38it/s]\n",
      "100%|██████████| 100/100 [00:00<00:00, 151.73it/s]\n",
      "100%|██████████| 100/100 [00:00<00:00, 147.42it/s]\n",
      "100%|██████████| 100/100 [00:00<00:00, 146.53it/s]\n",
      "100%|██████████| 100/100 [00:00<00:00, 145.64it/s]\n",
      "100%|██████████| 100/100 [00:00<00:00, 200.96it/s]\n",
      "100%|██████████| 100/100 [00:00<00:00, 205.75it/s]\n",
      "100%|██████████| 100/100 [00:00<00:00, 160.98it/s]\n",
      "100%|██████████| 100/100 [00:00<00:00, 177.09it/s]\n",
      "100%|██████████| 100/100 [00:00<00:00, 158.24it/s]\n",
      "100%|██████████| 100/100 [00:00<00:00, 136.10it/s]\n",
      "100%|██████████| 100/100 [00:01<00:00, 71.28it/s]\n",
      "100%|██████████| 100/100 [00:00<00:00, 149.77it/s]\n",
      "100%|██████████| 100/100 [00:00<00:00, 152.28it/s]\n",
      "100%|██████████| 100/100 [00:00<00:00, 197.36it/s]\n",
      "100%|██████████| 100/100 [00:00<00:00, 167.13it/s]\n",
      "100%|██████████| 100/100 [00:01<00:00, 85.88it/s]\n",
      "100%|██████████| 100/100 [00:01<00:00, 85.98it/s]\n",
      "100%|██████████| 100/100 [00:00<00:00, 205.40it/s]\n"
     ]
    }
   ],
   "source": [
    "from hyper_param_search import GridSearch, RandomSearch\n",
    "grid_search_result = GridSearch().find(dist_functions, features, K)\n",
    "random_search_result = RandomSearch().find(dist_functions, features, K)"
   ]
  },
  {
   "cell_type": "markdown",
   "metadata": {},
   "source": [
    "## 6. Results\n",
    "#### 6.1 Grid search results"
   ]
  },
  {
   "cell_type": "code",
   "execution_count": 7,
   "outputs": [
    {
     "name": "stdout",
     "output_type": "stream",
     "text": [
      "(0.96, ['euclidian', 'hog', 3])\n",
      "(0.95, ['manhattan', 'hog', 7])\n",
      "(0.91, ['manhattan', 'hog', 9])\n",
      "(0.86, ['euclidian', 'pixels', 9])\n",
      "(0.85, ['manhattan', 'pixels', 7])\n",
      "(0.84, ['manhattan', 'pixels', 3])\n",
      "(0.83, ['manhattan', 'pixels', 9])\n",
      "(0.82, ['euclidian', 'pixels', 3])\n",
      "(0.14, ['manhattan', 'hist', 9])\n",
      "(0.08, ['manhattan', 'hist', 5])\n"
     ]
    }
   ],
   "source": [
    "for result in grid_search_result.items():\n",
    "    print(result)"
   ],
   "metadata": {
    "collapsed": false,
    "pycharm": {
     "name": "#%%\n"
    }
   }
  },
  {
   "cell_type": "markdown",
   "source": [
    "#### 6.2 Grid search results"
   ],
   "metadata": {
    "collapsed": false
   }
  },
  {
   "cell_type": "code",
   "execution_count": 8,
   "outputs": [
    {
     "name": "stdout",
     "output_type": "stream",
     "text": [
      "(0.96, ['euclidian', 'hog', 3])\n",
      "(0.95, ['manhattan', 'hog', 3])\n",
      "(0.91, ['euclidian', 'hog', 9])\n",
      "(0.83, ['manhattan', 'pixels', 9])\n",
      "(0.14, ['manhattan', 'hist', 7])\n",
      "(0.08, ['euclidian', 'hist', 3])\n"
     ]
    }
   ],
   "source": [
    "for result in random_search_result.items():\n",
    "    print(result)"
   ],
   "metadata": {
    "collapsed": false,
    "pycharm": {
     "name": "#%%\n"
    }
   }
  },
  {
   "cell_type": "markdown",
   "source": [
    "#### 6.3 Special test with NN feature (because they take up too much memory)"
   ],
   "metadata": {
    "collapsed": false
   }
  },
  {
   "cell_type": "code",
   "execution_count": 13,
   "outputs": [],
   "source": [
    "x_train = nn.load_features(\"train\")\n",
    "x_test = nn.load_features(\"test\")"
   ],
   "metadata": {
    "collapsed": false,
    "pycharm": {
     "name": "#%%\n"
    }
   }
  },
  {
   "cell_type": "code",
   "execution_count": 16,
   "outputs": [
    {
     "name": "stderr",
     "output_type": "stream",
     "text": [
      "100%|██████████| 100/100 [00:04<00:00, 21.96it/s]\n"
     ]
    },
    {
     "name": "stdout",
     "output_type": "stream",
     "text": [
      "Accuracy: 0.55\n"
     ]
    }
   ],
   "source": [
    "model = OwnKNeighborsClassifier(3, euclidian_distance)\n",
    "model.fit(x_train, y_train)\n",
    "score = model.score(x_test, y_test)\n",
    "print(f\"Accuracy: {score}\")"
   ],
   "metadata": {
    "collapsed": false,
    "pycharm": {
     "name": "#%%\n"
    }
   }
  },
  {
   "cell_type": "markdown",
   "source": [
    "### The best model parameters:\n",
    "* k: 3\n",
    "* Distance function: euclidean\n",
    "* Features: hog\n",
    "\n",
    "### The best model test accuracy(on full dataset):"
   ],
   "metadata": {
    "collapsed": false
   }
  },
  {
   "cell_type": "code",
   "execution_count": 1,
   "outputs": [
    {
     "name": "stderr",
     "output_type": "stream",
     "text": [
      "100%|██████████| 10000/10000 [59:45<00:00,  2.79it/s] \n"
     ]
    },
    {
     "name": "stdout",
     "output_type": "stream",
     "text": [
      "Accuracy: 0.9645\n"
     ]
    }
   ],
   "source": [
    "from best_model import best_score\n",
    "\n",
    "best_score()"
   ],
   "metadata": {
    "collapsed": false,
    "pycharm": {
     "name": "#%%\n"
    }
   }
  },
  {
   "cell_type": "markdown",
   "source": [
    "###  Why such model parameters are the best?\n",
    "Mey be tiny dataset is course.\n",
    "\n",
    "- Basically for classification is need large K value. Usually it is square root of sample numbers. But in this case K=3 may be because distance value is well and near to each other.\n",
    "- Euclidean distance is good and basic way to work with vectors.\n",
    "- Hog summarizes well.\n",
    "\n",
    "What is not working.\n",
    "- Histogram is lost information and it gained worse result.\n",
    "- NN may not working by different reasons.\n",
    "    - VGG-16 is trained for 3-channel RGB images while Mnist digit data is 1-channel grayscale\n",
    "    - VGG-16 trained for 1000-class classification while for this task we used it only for 10 classes\n",
    "    - There are could be something missed in image preprocessing\n",
    "\n"
   ],
   "metadata": {
    "collapsed": false,
    "pycharm": {
     "name": "#%% md\n"
    }
   }
  }
 ],
 "metadata": {
  "kernelspec": {
   "display_name": "Python 3",
   "language": "python",
   "name": "python3"
  },
  "language_info": {
   "codemirror_mode": {
    "name": "ipython",
    "version": 3
   },
   "file_extension": ".py",
   "mimetype": "text/x-python",
   "name": "python",
   "nbconvert_exporter": "python",
   "pygments_lexer": "ipython3",
   "version": "3.7.4"
  }
 },
 "nbformat": 4,
 "nbformat_minor": 2
}